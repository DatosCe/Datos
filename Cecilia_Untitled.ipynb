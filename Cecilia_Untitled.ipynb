{
  "metadata": {
    "kernelspec": {
      "name": "python",
      "display_name": "Python (Pyodide)",
      "language": "python"
    },
    "language_info": {
      "codemirror_mode": {
        "name": "python",
        "version": 3
      },
      "file_extension": ".py",
      "mimetype": "text/x-python",
      "name": "python",
      "nbconvert_exporter": "python",
      "pygments_lexer": "ipython3",
      "version": "3.8"
    }
  },
  "nbformat_minor": 4,
  "nbformat": 4,
  "cells": [
    {
      "cell_type": "code",
      "source": "# Título del Cuaderno\nDatos",
      "metadata": {
        "trusted": true
      },
      "outputs": [],
      "execution_count": null
    },
    {
      "cell_type": "code",
      "source": "## Introducción\nEste cuaderno contiene varios ejemplos y notas sobre la ciencia de datos, incluyendo lenguajes comunes, bibliotecas útiles y herramientas importantes.",
      "metadata": {
        "trusted": true
      },
      "outputs": [],
      "execution_count": null
    },
    {
      "cell_type": "code",
      "source": "## Lenguajes de la Ciencia de Datos\n1. Python\n2. R\n3. SQL\n4. Julia\n5. Scala",
      "metadata": {
        "trusted": true
      },
      "outputs": [],
      "execution_count": null
    },
    {
      "cell_type": "code",
      "source": "## Bibliotecas de Ciencia de Datos\n- NumPy\n- Pandas\n- Matplotlib\n- Scikit-learn\n- TensorFlow\n- Keras",
      "metadata": {
        "trusted": true
      },
      "outputs": [],
      "execution_count": null
    },
    {
      "cell_type": "code",
      "source": "## Herramientas de Ciencia de Datos\n\n| Herramienta       | Descripción                                   |\n|-------------------|-----------------------------------------------|\n| Jupyter Notebook  | Entorno interactivo para ejecutar código      |\n| RStudio           | IDE para R                                    |\n| Apache Spark      | Framework para procesamiento distribuido      |\n| Tableau           | Herramienta de visualización de datos         |\n| RapidMiner        | Plataforma para minería de datos              |\n",
      "metadata": {
        "trusted": true
      },
      "outputs": [],
      "execution_count": null
    },
    {
      "cell_type": "code",
      "source": "## Ejemplos de Expresiones Aritméticas\nA continuación, se presentan algunos ejemplos de expresiones aritméticas básicas en Python:\n- Suma: `3 + 2`\n- Resta: `5 - 1`\n- Multiplicación: `4 * 2`\n- División: `8 / 2`\n",
      "metadata": {
        "trusted": true
      },
      "outputs": [],
      "execution_count": null
    },
    {
      "cell_type": "code",
      "source": "# Multiplicar y sumar números\na = 5\nb = 7\nmultiplicacion = a * b\nsuma = a + b\n\nprint(\"Multiplicación:\", multiplicacion)\nprint(\"Suma:\", suma)\n",
      "metadata": {
        "trusted": true
      },
      "outputs": [],
      "execution_count": null
    },
    {
      "cell_type": "code",
      "source": "# Convertir minutos en horas\nminutos = 120\nhoras = minutos / 60\nprint(minutos, \"minutos son\", horas, \"horas\")\n",
      "metadata": {
        "trusted": true
      },
      "outputs": [],
      "execution_count": null
    },
    {
      "cell_type": "code",
      "source": "# Listar Objetivos\nobjetivos = [\"Aprender los fundamentos de la ciencia de datos\", \"Familiarizarse con bibliotecas populares\", \"Practicar expresiones aritméticas y conversiones\"]\nfor objetivo in objetivos:\n    print(objetivo)\n",
      "metadata": {
        "trusted": true
      },
      "outputs": [],
      "execution_count": null
    },
    {
      "cell_type": "code",
      "source": "## Autor\nNombre del Autor: [Cecilia]\n",
      "metadata": {
        "trusted": true
      },
      "outputs": [],
      "execution_count": null
    }
  ]
}